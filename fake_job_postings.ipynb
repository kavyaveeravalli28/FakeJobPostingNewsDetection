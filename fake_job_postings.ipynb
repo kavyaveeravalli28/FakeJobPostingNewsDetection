{
 "cells": [
  {
   "cell_type": "code",
   "execution_count": 1,
   "metadata": {},
   "outputs": [
    {
     "name": "stdout",
     "output_type": "stream",
     "text": [
      "Requirement already satisfied: nltk in c:\\users\\bindu\\appdata\\local\\programs\\python\\python311\\lib\\site-packages (3.8.1)\n",
      "Requirement already satisfied: click in c:\\users\\bindu\\appdata\\local\\programs\\python\\python311\\lib\\site-packages (from nltk) (8.1.7)\n",
      "Requirement already satisfied: joblib in c:\\users\\bindu\\appdata\\local\\programs\\python\\python311\\lib\\site-packages (from nltk) (1.4.2)\n",
      "Requirement already satisfied: regex>=2021.8.3 in c:\\users\\bindu\\appdata\\local\\programs\\python\\python311\\lib\\site-packages (from nltk) (2024.5.15)\n",
      "Requirement already satisfied: tqdm in c:\\users\\bindu\\appdata\\local\\programs\\python\\python311\\lib\\site-packages (from nltk) (4.66.4)\n",
      "Requirement already satisfied: colorama in c:\\users\\bindu\\appdata\\roaming\\python\\python311\\site-packages (from click->nltk) (0.4.6)\n",
      "Note: you may need to restart the kernel to use updated packages.\n"
     ]
    }
   ],
   "source": [
    "pip install nltk\n"
   ]
  },
  {
   "cell_type": "code",
   "execution_count": 2,
   "metadata": {},
   "outputs": [
    {
     "name": "stderr",
     "output_type": "stream",
     "text": [
      "[nltk_data] Downloading package stopwords to\n",
      "[nltk_data]     C:\\Users\\Bindu\\AppData\\Roaming\\nltk_data...\n",
      "[nltk_data]   Package stopwords is already up-to-date!\n",
      "[nltk_data] Downloading package wordnet to\n",
      "[nltk_data]     C:\\Users\\Bindu\\AppData\\Roaming\\nltk_data...\n",
      "[nltk_data]   Package wordnet is already up-to-date!\n"
     ]
    },
    {
     "data": {
      "text/plain": [
       "True"
      ]
     },
     "execution_count": 2,
     "metadata": {},
     "output_type": "execute_result"
    }
   ],
   "source": [
    "import pandas as pd\n",
    "import numpy as np\n",
    "import re\n",
    "import nltk # type: ignore\n",
    "from nltk.corpus import stopwords # type: ignore\n",
    "from nltk.stem import PorterStemmer # type: ignore\n",
    "from nltk.stem import WordNetLemmatizer # type: ignore\n",
    "\n",
    "\n",
    "nltk.download('stopwords')\n",
    "nltk.download('wordnet')"
   ]
  },
  {
   "cell_type": "code",
   "execution_count": 3,
   "metadata": {},
   "outputs": [],
   "source": [
    "# Loading the dataset\n",
    "df = pd.read_csv('fake_job_postings.csv')"
   ]
  },
  {
   "cell_type": "code",
   "execution_count": 4,
   "metadata": {},
   "outputs": [
    {
     "name": "stdout",
     "output_type": "stream",
     "text": [
      "   job_id                                    title            location   \n",
      "0       1                         marketing intern    US, NY, New York  \\\n",
      "1       2  customer service cloud video production      NZ, , Auckland   \n",
      "2       3    commissioning machinery assistant cma       US, IA, Wever   \n",
      "3       4          account executive washington dc  US, DC, Washington   \n",
      "4       5                      bill review manager  US, FL, Fort Worth   \n",
      "\n",
      "  department salary_range                                    company_profile   \n",
      "0  Marketing          NaN  weve created groundbreaking awardwinning cooki...  \\\n",
      "1    Success          NaN  second world cloud video production service se...   \n",
      "2        NaN          NaN  valor service provides workforce solution meet...   \n",
      "3      Sales          NaN  passion improving quality life geography heart...   \n",
      "4        NaN          NaN  spotsource solution llc global human capital m...   \n",
      "\n",
      "                                         description   \n",
      "0  fastgrowing james beard awardwinning online fo...  \\\n",
      "1  organised focused vibrant awesomedo passion cu...   \n",
      "2  client located houston actively seeking experi...   \n",
      "3  company esri – environmental system research i...   \n",
      "4  job title itemization review managerlocation f...   \n",
      "\n",
      "                                        requirements   \n",
      "0  Experience with content management systems a m...  \\\n",
      "1  What we expect from you:Your key responsibilit...   \n",
      "2  Implement pre-commissioning and commissioning ...   \n",
      "3  EDUCATION: Bachelor’s or Master’s in GIS, busi...   \n",
      "4  QUALIFICATIONS:RN license in the State of Texa...   \n",
      "\n",
      "                                            benefits  telecommuting   \n",
      "0                                                NaN              0  \\\n",
      "1  What you will get from usThrough being part of...              0   \n",
      "2                                                NaN              0   \n",
      "3  Our culture is anything but corporate—we have ...              0   \n",
      "4                              Full Benefits Offered              0   \n",
      "\n",
      "   has_company_logo  has_questions employment_type required_experience   \n",
      "0                 1              0           Other          Internship  \\\n",
      "1                 1              0       Full-time      Not Applicable   \n",
      "2                 1              0             NaN                 NaN   \n",
      "3                 1              0       Full-time    Mid-Senior level   \n",
      "4                 1              1       Full-time    Mid-Senior level   \n",
      "\n",
      "  required_education                   industry              function   \n",
      "0                NaN                        NaN             Marketing  \\\n",
      "1                NaN  Marketing and Advertising      Customer Service   \n",
      "2                NaN                        NaN                   NaN   \n",
      "3  Bachelor's Degree          Computer Software                 Sales   \n",
      "4  Bachelor's Degree     Hospital & Health Care  Health Care Provider   \n",
      "\n",
      "   fraudulent  \n",
      "0           0  \n",
      "1           0  \n",
      "2           0  \n",
      "3           0  \n",
      "4           0  \n"
     ]
    }
   ],
   "source": [
    "# Function to preprocess text\n",
    "import string\n",
    "\n",
    "\n",
    "def preprocess_text(text):\n",
    "    # 1. Convert to lower case\n",
    "    text = text.lower()\n",
    "    \n",
    "    # 2. Remove links\n",
    "    text = re.sub(r'http\\S+|www\\S+|https\\S+', '', text, flags=re.MULTILINE)\n",
    "    \n",
    "    # 3. Remove next lines (\\n)\n",
    "    text = text.replace('\\n', ' ')\n",
    "    \n",
    "    # 4. Remove words containing numbers\n",
    "    text = re.sub(r'\\w*\\d\\w*', '', text)\n",
    "    \n",
    "    # 5. Remove extra spaces\n",
    "    text = re.sub(r'\\s+', ' ', text).strip()\n",
    "    \n",
    "    # 6. Remove special characters\n",
    "    text = text.translate(str.maketrans('', '', string.punctuation))\n",
    "    \n",
    "    # 7. Remove stop words\n",
    "    stop_words = set(stopwords.words('english'))\n",
    "    text = ' '.join([word for word in text.split() if word not in stop_words])\n",
    "    \n",
    "    # 8. Lemmatization\n",
    "    lemmatizer = WordNetLemmatizer()\n",
    "    text = ' '.join([lemmatizer.lemmatize(word) for word in text.split()])\n",
    "    \n",
    "    return text\n",
    "\n",
    "text_columns = ['title', 'company_profile', 'description']\n",
    "\n",
    "for col in text_columns:\n",
    "    df[col] = df[col].apply(lambda x: preprocess_text(str(x)))\n",
    "\n",
    "# Displaying the first few rows of the dataframe to check preprocessing\n",
    "print(df.head())\n"
   ]
  },
  {
   "cell_type": "markdown",
   "metadata": {},
   "source": [
    "WITHOUT REMOVING THE STOP WORDS"
   ]
  },
  {
   "cell_type": "code",
   "execution_count": 5,
   "metadata": {},
   "outputs": [
    {
     "name": "stdout",
     "output_type": "stream",
     "text": [
      "   job_id                                    title            location   \n",
      "0       1                         marketing intern    US, NY, New York  \\\n",
      "1       2  customer service cloud video production      NZ, , Auckland   \n",
      "2       3    commissioning machinery assistant cma       US, IA, Wever   \n",
      "3       4          account executive washington dc  US, DC, Washington   \n",
      "4       5                      bill review manager  US, FL, Fort Worth   \n",
      "\n",
      "  department salary_range                                    company_profile   \n",
      "0  Marketing          NaN  weve created groundbreaking awardwinning cooki...  \\\n",
      "1    Success          NaN  second world cloud video production service se...   \n",
      "2        NaN          NaN  valor service provides workforce solution meet...   \n",
      "3      Sales          NaN  passion improving quality life geography heart...   \n",
      "4        NaN          NaN  spotsource solution llc global human capital m...   \n",
      "\n",
      "                                         description   \n",
      "0  fastgrowing james beard awardwinning online fo...  \\\n",
      "1  organised focused vibrant awesomedo passion cu...   \n",
      "2  client located houston actively seeking experi...   \n",
      "3  company esri – environmental system research i...   \n",
      "4  job title itemization review managerlocation f...   \n",
      "\n",
      "                                        requirements   \n",
      "0  Experience with content management systems a m...  \\\n",
      "1  What we expect from you:Your key responsibilit...   \n",
      "2  Implement pre-commissioning and commissioning ...   \n",
      "3  EDUCATION: Bachelor’s or Master’s in GIS, busi...   \n",
      "4  QUALIFICATIONS:RN license in the State of Texa...   \n",
      "\n",
      "                                            benefits  telecommuting   \n",
      "0                                                NaN              0  \\\n",
      "1  What you will get from usThrough being part of...              0   \n",
      "2                                                NaN              0   \n",
      "3  Our culture is anything but corporate—we have ...              0   \n",
      "4                              Full Benefits Offered              0   \n",
      "\n",
      "   has_company_logo  has_questions employment_type required_experience   \n",
      "0                 1              0           Other          Internship  \\\n",
      "1                 1              0       Full-time      Not Applicable   \n",
      "2                 1              0             NaN                 NaN   \n",
      "3                 1              0       Full-time    Mid-Senior level   \n",
      "4                 1              1       Full-time    Mid-Senior level   \n",
      "\n",
      "  required_education                   industry              function   \n",
      "0                NaN                        NaN             Marketing  \\\n",
      "1                NaN  Marketing and Advertising      Customer Service   \n",
      "2                NaN                        NaN                   NaN   \n",
      "3  Bachelor's Degree          Computer Software                 Sales   \n",
      "4  Bachelor's Degree     Hospital & Health Care  Health Care Provider   \n",
      "\n",
      "   fraudulent  \n",
      "0           0  \n",
      "1           0  \n",
      "2           0  \n",
      "3           0  \n",
      "4           0  \n"
     ]
    }
   ],
   "source": [
    "# Function to preprocess text\n",
    "import string\n",
    "\n",
    "\n",
    "def preprocess_text(text):\n",
    "    # 1. Convert to lower case\n",
    "    text = text.lower()\n",
    "    \n",
    "    # 2. Remove links\n",
    "    text = re.sub(r'http\\S+|www\\S+|https\\S+', '', text, flags=re.MULTILINE)\n",
    "    \n",
    "    # 3. Remove next lines (\\n)\n",
    "    text = text.replace('\\n', ' ')\n",
    "    \n",
    "    # 4. Remove words containing numbers\n",
    "    text = re.sub(r'\\w*\\d\\w*', '', text)\n",
    "    \n",
    "    # 5. Remove extra spaces\n",
    "    text = re.sub(r'\\s+', ' ', text).strip()\n",
    "    \n",
    "    # 6. Remove special characters\n",
    "    text = text.translate(str.maketrans('', '', string.punctuation))\n",
    "    \n",
    "    # 7. Lemmatization\n",
    "    lemmatizer = WordNetLemmatizer()\n",
    "    text = ' '.join([lemmatizer.lemmatize(word) for word in text.split()])\n",
    "    \n",
    "    return text\n",
    "\n",
    "text_columns = ['title', 'company_profile', 'description']\n",
    "\n",
    "for col in text_columns:\n",
    "    df[col] = df[col].apply(lambda x: preprocess_text(str(x)))\n",
    "\n",
    "# Displaying the first few rows of the dataframe to check preprocessing\n",
    "print(df.head())"
   ]
  },
  {
   "cell_type": "code",
   "execution_count": null,
   "metadata": {},
   "outputs": [],
   "source": []
  }
 ],
 "metadata": {
  "kernelspec": {
   "display_name": "Python 3",
   "language": "python",
   "name": "python3"
  },
  "language_info": {
   "codemirror_mode": {
    "name": "ipython",
    "version": 3
   },
   "file_extension": ".py",
   "mimetype": "text/x-python",
   "name": "python",
   "nbconvert_exporter": "python",
   "pygments_lexer": "ipython3",
   "version": "3.11.3"
  }
 },
 "nbformat": 4,
 "nbformat_minor": 2
}
